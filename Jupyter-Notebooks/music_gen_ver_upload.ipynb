{
 "cells": [
  {
   "cell_type": "code",
   "execution_count": 1,
   "metadata": {},
   "outputs": [],
   "source": [
    "from music21 import converter, instrument, note, chord, stream\n",
    "import glob\n",
    "import pickle\n",
    "import numpy as np\n",
    "from tensorflow.keras.utils import to_categorical"
   ]
  },
  {
   "cell_type": "markdown",
   "metadata": {},
   "source": [
    "## Extracting notes and chords from MIDI files"
   ]
  },
  {
   "cell_type": "code",
   "execution_count": 116,
   "metadata": {},
   "outputs": [],
   "source": [
    "files = glob.glob('./maestro-v2.0.0/2013/*')"
   ]
  },
  {
   "cell_type": "code",
   "execution_count": 118,
   "metadata": {},
   "outputs": [
    {
     "name": "stdout",
     "output_type": "stream",
     "text": [
      "reading file: 10 ;len_notes: 30415\r"
     ]
    }
   ],
   "source": [
    "notes = []\n",
    "for i, file in enumerate(files):\n",
    "    print('reading file:',i, ';len_notes:', len(notes), end = '\\r')\n",
    "    if len(notes) > 30000:\n",
    "        break\n",
    "    midi = converter.parse(file)\n",
    "    \n",
    "    elements_to_parse = midi.flat.notes\n",
    "    \n",
    "    for ele in elements_to_parse:\n",
    "        \n",
    "        if isinstance(ele, note.Note):\n",
    "            notes.append(str(ele.pitch))\n",
    "        \n",
    "        elif isinstance(ele, chord.Chord):\n",
    "            notes.append('+'.join(str(n) for n in ele.normalOrder))\n",
    "        \n",
    "        else:\n",
    "            print('found something else')\n",
    "            print(ele)\n",
    "            print('this was it')"
   ]
  },
  {
   "cell_type": "code",
   "execution_count": 121,
   "metadata": {},
   "outputs": [],
   "source": [
    "# len(set(notes)), len(notes)"
   ]
  },
  {
   "cell_type": "code",
   "execution_count": null,
   "metadata": {},
   "outputs": [],
   "source": []
  },
  {
   "cell_type": "code",
   "execution_count": 122,
   "metadata": {},
   "outputs": [],
   "source": [
    "# import pickle\n",
    "# with open('notes-2', 'wb') as file:\n",
    "#     pickle.dump(notes, file)"
   ]
  },
  {
   "cell_type": "code",
   "execution_count": 157,
   "metadata": {},
   "outputs": [],
   "source": [
    "with open('notes', 'rb') as file:\n",
    "    notes = pickle.load(file)"
   ]
  },
  {
   "cell_type": "markdown",
   "metadata": {},
   "source": [
    "## Preparing seauence data"
   ]
  },
  {
   "cell_type": "code",
   "execution_count": 158,
   "metadata": {},
   "outputs": [],
   "source": [
    "seq_len = 100"
   ]
  },
  {
   "cell_type": "code",
   "execution_count": 159,
   "metadata": {},
   "outputs": [
    {
     "data": {
      "text/plain": [
       "(62906, 600)"
      ]
     },
     "execution_count": 159,
     "metadata": {},
     "output_type": "execute_result"
    }
   ],
   "source": [
    "pitchnames = sorted(set(notes))\n",
    "n_vocab = len(pitchnames)\n",
    "len(notes), len(set(notes))"
   ]
  },
  {
   "cell_type": "code",
   "execution_count": 160,
   "metadata": {},
   "outputs": [],
   "source": [
    "# Dictionary to map notes with integer\n",
    "ele_to_int = dict([(ele, i) for i, ele in enumerate(pitchnames)])"
   ]
  },
  {
   "cell_type": "code",
   "execution_count": 161,
   "metadata": {},
   "outputs": [],
   "source": [
    "network_input = []\n",
    "network_output = []"
   ]
  },
  {
   "cell_type": "code",
   "execution_count": 162,
   "metadata": {},
   "outputs": [],
   "source": [
    "# Creating Sequence Data\n",
    "for i in range(len(notes) - seq_len):\n",
    "    seq_in = notes[i:i+seq_len]\n",
    "    seq_out = notes[i+seq_len]\n",
    "    \n",
    "    network_input.append([ele_to_int[ele] for ele in seq_in])\n",
    "    network_output.append(ele_to_int[seq_out])"
   ]
  },
  {
   "cell_type": "code",
   "execution_count": 163,
   "metadata": {},
   "outputs": [
    {
     "name": "stdout",
     "output_type": "stream",
     "text": [
      "62806\n"
     ]
    }
   ],
   "source": [
    "n_patterns = len(network_input)\n",
    "print(n_patterns)"
   ]
  },
  {
   "cell_type": "code",
   "execution_count": 164,
   "metadata": {},
   "outputs": [
    {
     "data": {
      "text/plain": [
       "(62806, 100, 1)"
      ]
     },
     "execution_count": 164,
     "metadata": {},
     "output_type": "execute_result"
    }
   ],
   "source": [
    "network_input = np.reshape(network_input, (n_patterns, seq_len, 1))\n",
    "network_input.shape"
   ]
  },
  {
   "cell_type": "code",
   "execution_count": 165,
   "metadata": {},
   "outputs": [],
   "source": [
    "# Normalising Input Data...\n",
    "normalised_network_input = network_input/float(n_vocab)"
   ]
  },
  {
   "cell_type": "code",
   "execution_count": 166,
   "metadata": {},
   "outputs": [
    {
     "data": {
      "text/plain": [
       "(62806, 600)"
      ]
     },
     "execution_count": 166,
     "metadata": {},
     "output_type": "execute_result"
    }
   ],
   "source": [
    "# Getting One-Hot vector Representation for supervised learning...\n",
    "network_output = to_categorical(network_output)\n",
    "network_output.shape"
   ]
  },
  {
   "cell_type": "code",
   "execution_count": 167,
   "metadata": {},
   "outputs": [
    {
     "name": "stdout",
     "output_type": "stream",
     "text": [
      "(62806, 100, 1)\n",
      "(62806, 600)\n"
     ]
    }
   ],
   "source": [
    "print(normalised_network_input.shape)\n",
    "print(network_output.shape)"
   ]
  },
  {
   "cell_type": "markdown",
   "metadata": {},
   "source": [
    " ## Create Model"
   ]
  },
  {
   "cell_type": "code",
   "execution_count": 168,
   "metadata": {},
   "outputs": [],
   "source": [
    "from tensorflow.keras.models import Sequential, load_model\n",
    "from tensorflow.keras.layers import *\n",
    "from tensorflow.keras.callbacks import EarlyStopping, ModelCheckpoint"
   ]
  },
  {
   "cell_type": "code",
   "execution_count": 169,
   "metadata": {},
   "outputs": [],
   "source": [
    "model = Sequential()\n",
    "model.add(LSTM(units = 512, \n",
    "        input_shape = (normalised_network_input.shape[1], normalised_network_input.shape[2]),\n",
    "        return_sequences = True))\n",
    "model.add(Dropout(0.3))\n",
    "model.add(LSTM(512, return_sequences = True))\n",
    "model.add(Dropout(0.3))\n",
    "model.add(LSTM(512))\n",
    "model.add(Dense(256))\n",
    "model.add(Dropout(0.3))\n",
    "model.add(Dense(n_vocab, activation = 'softmax'))\n",
    "\n",
    "model.compile(loss = 'categorical_crossentropy', optimizer = 'adam')"
   ]
  },
  {
   "cell_type": "code",
   "execution_count": 170,
   "metadata": {},
   "outputs": [
    {
     "name": "stdout",
     "output_type": "stream",
     "text": [
      "Model: \"sequential_1\"\n",
      "_________________________________________________________________\n",
      "Layer (type)                 Output Shape              Param #   \n",
      "=================================================================\n",
      "lstm_3 (LSTM)                (None, 100, 512)          1052672   \n",
      "_________________________________________________________________\n",
      "dropout_3 (Dropout)          (None, 100, 512)          0         \n",
      "_________________________________________________________________\n",
      "lstm_4 (LSTM)                (None, 100, 512)          2099200   \n",
      "_________________________________________________________________\n",
      "dropout_4 (Dropout)          (None, 100, 512)          0         \n",
      "_________________________________________________________________\n",
      "lstm_5 (LSTM)                (None, 512)               2099200   \n",
      "_________________________________________________________________\n",
      "dense_2 (Dense)              (None, 256)               131328    \n",
      "_________________________________________________________________\n",
      "dropout_5 (Dropout)          (None, 256)               0         \n",
      "_________________________________________________________________\n",
      "dense_3 (Dense)              (None, 600)               154200    \n",
      "=================================================================\n",
      "Total params: 5,536,600\n",
      "Trainable params: 5,536,600\n",
      "Non-trainable params: 0\n",
      "_________________________________________________________________\n"
     ]
    }
   ],
   "source": [
    "model.summary()"
   ]
  },
  {
   "cell_type": "code",
   "execution_count": 171,
   "metadata": {},
   "outputs": [],
   "source": [
    "# checkpoint = ModelCheckpoint('./models/model.hdf5', monitor = 'loss', verbose = 1,\n",
    "#                              save_best_only=True, mode = 'min')\n",
    "\n",
    "# hist_fit = model.fit(normalised_network_input, network_output, batch_size = 64, \n",
    "#                      epochs = 100, callbacks = [checkpoint])"
   ]
  },
  {
   "cell_type": "markdown",
   "metadata": {},
   "source": [
    "## Predicting"
   ]
  },
  {
   "cell_type": "code",
   "execution_count": 173,
   "metadata": {},
   "outputs": [],
   "source": [
    "# Load model\n",
    "model = load_model('./models/model-5.hdf5')\n",
    "seq_len = 100"
   ]
  },
  {
   "cell_type": "code",
   "execution_count": 174,
   "metadata": {},
   "outputs": [],
   "source": [
    "# Prepare sample input for prediction and generate model predictions...\n",
    "def get_model_ouput(model, notes, seq_len, start = None, num_notes = 100):\n",
    "    \n",
    "    pitchnames = sorted(set(notes))\n",
    "    n_vocab = len(pitchnames)\n",
    "    len(notes), len(set(notes))\n",
    "    \n",
    "    network_input = []\n",
    "    for i in range(len(notes) - seq_len):\n",
    "        seq_in = notes[i:i+seq_len]\n",
    "        network_input.append([ele_to_int[ele] for ele in seq_in])\n",
    "   \n",
    "    if start is None:\n",
    "        start = np.random.randint(len(network_input) - 1)\n",
    "    \n",
    "#     Used Later for debugging and validation.\n",
    "    print('start:', start)\n",
    "    \n",
    "    int_to_ele = dict([(i, ele) for i,ele in enumerate(pitchnames)])\n",
    "    pattern = network_input[start]\n",
    "\n",
    "    prediction_output = []\n",
    "    \n",
    "    for i in range(num_notes):\n",
    "        prediction_input = np.reshape(pattern, (1, len(pattern), 1))\n",
    "        prediction_input = prediction_input/n_vocab\n",
    "\n",
    "        prediction = model.predict(prediction_input)\n",
    "        idx = np.argmax(prediction)\n",
    "\n",
    "        result = int_to_ele[idx]\n",
    "\n",
    "        prediction_output.append(result)\n",
    "\n",
    "        pattern.append(idx)\n",
    "        pattern = pattern[1:]\n",
    "        if i%10 == 0:\n",
    "            print(i, end = '\\r')\n",
    "        \n",
    "    return prediction_output"
   ]
  },
  {
   "cell_type": "code",
   "execution_count": 185,
   "metadata": {},
   "outputs": [
    {
     "name": "stdout",
     "output_type": "stream",
     "text": [
      "start: 1252\n",
      "90\r"
     ]
    }
   ],
   "source": [
    "prediction_output = get_model_ouput(model, notes, 100, num_notes=100)"
   ]
  },
  {
   "cell_type": "code",
   "execution_count": 186,
   "metadata": {},
   "outputs": [
    {
     "data": {
      "text/plain": [
       "100"
      ]
     },
     "execution_count": 186,
     "metadata": {},
     "output_type": "execute_result"
    }
   ],
   "source": [
    "len(prediction_output)"
   ]
  },
  {
   "cell_type": "code",
   "execution_count": 187,
   "metadata": {},
   "outputs": [],
   "source": [
    "# prediction_output"
   ]
  },
  {
   "cell_type": "markdown",
   "metadata": {},
   "source": [
    "## Create MIDI File"
   ]
  },
  {
   "cell_type": "code",
   "execution_count": 188,
   "metadata": {},
   "outputs": [],
   "source": [
    "from music21.instrument import Instrument"
   ]
  },
  {
   "cell_type": "code",
   "execution_count": 189,
   "metadata": {},
   "outputs": [],
   "source": [
    "def get_output_notes(prediction_output):\n",
    "    offset = 0\n",
    "    output_notes = []\n",
    "    k = 0\n",
    "    last = len(prediction_output)\n",
    "    for pattern in prediction_output:\n",
    "\n",
    "        # if pattern is chord\n",
    "        if ('+' in pattern) or (pattern.isdigit()):\n",
    "            notes_in_chord = pattern.split('+')\n",
    "            temp_notes = []\n",
    "            for current_note in notes_in_chord:\n",
    "                new_note = note.Note(int(current_note))\n",
    "                new_note.storedInstrument = instrument.Piano()\n",
    "                temp_notes.append(new_note)\n",
    "            new_chord = chord.Chord(temp_notes) \n",
    "            new_chord.offset = offset\n",
    "            output_notes.append(new_chord)\n",
    "            continue\n",
    "\n",
    "        #if pattern is note\n",
    "        new_note = note.Note(pattern)\n",
    "        new_note.storedInstrument = instrument.Piano()\n",
    "        new_note.offset = offset\n",
    "        output_notes.append(new_note)\n",
    "\n",
    "        if k < 5:\n",
    "            offset += 1.0\n",
    "            print(k)\n",
    "        else:\n",
    "            offset += 0.5\n",
    "        k += 1\n",
    "    \n",
    "    k = 5\n",
    "    while k > 0:\n",
    "        if isinstance(output_notes[-k], note.Note):\n",
    "            output_notes[-k].offset = output_notes[-k-1].offset + 1.0\n",
    "        k -= 1\n",
    "        print(k)\n",
    "            \n",
    "    return output_notes"
   ]
  },
  {
   "cell_type": "code",
   "execution_count": 190,
   "metadata": {},
   "outputs": [
    {
     "name": "stdout",
     "output_type": "stream",
     "text": [
      "0\n",
      "1\n",
      "2\n",
      "3\n",
      "4\n",
      "4\n",
      "3\n",
      "2\n",
      "1\n",
      "0\n"
     ]
    },
    {
     "data": {
      "text/plain": [
       "100"
      ]
     },
     "execution_count": 190,
     "metadata": {},
     "output_type": "execute_result"
    }
   ],
   "source": [
    "output_notes = get_output_notes(prediction_output)\n",
    "len(output_notes)"
   ]
  },
  {
   "cell_type": "code",
   "execution_count": 191,
   "metadata": {},
   "outputs": [],
   "source": [
    "def get_midi_file(output_notes, save = False, file_name = None):\n",
    "    \n",
    "    midi_stream = stream.Stream(output_notes)\n",
    "    \n",
    "    if save == True:\n",
    "        midi_stream.write('midi', fp = file_name)\n",
    "    \n",
    "    return midi_stream"
   ]
  },
  {
   "cell_type": "code",
   "execution_count": 192,
   "metadata": {
    "scrolled": true
   },
   "outputs": [
    {
     "data": {
      "text/html": [
       "\n",
       "                <div id='midiPlayerDiv285805'></div>\n",
       "                <link rel=\"stylesheet\" href=\"//cuthbertLab.github.io/music21j/css/m21.css\"\n",
       "                    type=\"text/css\" />\n",
       "                <script>\n",
       "                require.config({\n",
       "                    paths: {'music21': '//cuthbertLab.github.io/music21j/src/music21'}\n",
       "                });\n",
       "                require(['music21'], function() {\n",
       "                               mp = new music21.miditools.MidiPlayer();\n",
       "                               mp.addPlayer('#midiPlayerDiv285805');\n",
       "                               mp.base64Load('data:audio/midi;base64,TVRoZAAAAAYAAQABBABNVHJrAAAD1wD/AwAA4ABAAJAzWogAgDMAAJBCWogAgEIAAJBBWogAgEEAAJAsWogAgCwAAJA/WogAgD8AAJA8WoQAkEJahACAPAAAkDFahACAQgAAkEFahACAMQAAkD1ahACAQQAAkDNahACAPQAAkDVahACAMwAAkERahACANQAAkDZahACARAAAkElahACANgAAkDVahACASQAAkDNahACANQAAkDFahACAMwAAkFBahACAMQAAkEFaAJBJWoQAgFAAAJA6WoQAgEEAAIBJAACQOFqEAIA6AACQQFoAkENaAJBJWoQAgDgAAJA6WoQAgEAAAIBDAACASQAAkD1ahACAOgAAkEZahACAPQAAkDtahACARgAAkEZaAJA9WgCQRloAkD1aAJBDWoQAgDsAAJBAWoQAgEYAAIA9AACARgAAgD0AAIBDAACQRloAkD9aAJBJWoQAgEAAAJA9WoQAgEYAAIA/AACASQAAkDtahACAPQAAkExahACAOwAAkDpahACATAAAkDhahACAOgAAkElahACAOAAAkDdahACASQAAkDhahACANwAAkEtahACAOAAAkEdahACASwAAkDtahACARwAAkDpahACAOwAAkFBahACAOgAAkDhahACAUAAAkEZahACAOAAAkElahACARgAAkDdahACASQAAkDVahACANwAAkE9ahACANQAAkDNahACATwAAkDFahACAMwAAkERaAJBHWgCQMVqEAIAxAACQM1qEAIBEAACARwAAgDEAAJBQWoQAgDMAAJAvWoQAgFAAAJBPWoQAgC8AAJAsWoQAgE8AAJBQWoQAgCwAAJBSWoQAgFAAAJBEWgCQR1oAkDVahACAUgAAkFBahACARAAAgEcAAIA1AACQMVqEAIBQAACQTVqEAIAxAACQTlqEAIBNAACQUFqEAIBOAACQO1qEAIBQAACQTVqEAIA7AACQOFqEAIBNAACQSVqEAIA4AACQNVqEAIBJAACQS1qEAIA1AACQTVqEAIBLAACQMVqEAIBNAACQSVqEAIAxAACQLlqEAIBJAACQKlqEAIAuAACQRlqEAIAqAACQSFqEAIBGAACQRloAkD1aAJBCWgCQRloAkE5ahACASAAAkDNahACARgAAgD0AAIBCAACARgAAgE4AAJBQWoQAgDMAAJBSWoQAgFAAAJA2WoQAgFIAAJA/WgCQQloAkDBahACANgAAkEtahACAPwAAgEIAAIAwAIQAgEsAAJBNWgCQQloAkEZaiACATQAAgEIAAIBGAACQS1qIAIBLAACQNlqIAIA2AACQM1qIAIAzAIgA/y8A');\n",
       "                        });\n",
       "                </script>"
      ],
      "text/plain": [
       "<IPython.core.display.HTML object>"
      ]
     },
     "metadata": {},
     "output_type": "display_data"
    }
   ],
   "source": [
    "midi_stream = get_midi_file(output_notes)\n",
    "midi_stream.show('midi')"
   ]
  },
  {
   "cell_type": "markdown",
   "metadata": {},
   "source": [
    "## Checking for overfitting"
   ]
  },
  {
   "cell_type": "code",
   "execution_count": 193,
   "metadata": {},
   "outputs": [],
   "source": [
    "def check(prediction_output, network_input):\n",
    "    inp = list(network_input[start].copy().reshape(-1, ))\n",
    "    ls = list(network_input[0].copy().reshape(-1, ))\n",
    "\n",
    "    for out in network_output:\n",
    "        ls.append(np.argmax(out.copy()))\n",
    "    \n",
    "    for i in range(len(ls)):\n",
    "        if ls[i:100 + i] == inp:\n",
    "            print('found')\n",
    "            break\n",
    "    \n",
    "    print('Now checking for overfitting')\n",
    "    \n",
    "    n = len(prediction_output)\n",
    "    count = 0\n",
    "    \n",
    "    preds = []\n",
    "    for i in prediction_output:\n",
    "        preds.append(ele_to_int[i])\n",
    "    \n",
    "    for i, ele in enumerate(ls[start + 100: start + 100 + n]):\n",
    "        if ele != preds[i]:\n",
    "            count += 1\n",
    "    print(f'{n - count} out of {n} are same.')"
   ]
  },
  {
   "cell_type": "code",
   "execution_count": 194,
   "metadata": {
    "scrolled": true
   },
   "outputs": [
    {
     "name": "stdout",
     "output_type": "stream",
     "text": [
      "found\n",
      "Now checking for overfitting\n",
      "3 out of 100 are same.\n"
     ]
    }
   ],
   "source": [
    "check(prediction_output, network_input)"
   ]
  }
 ],
 "metadata": {
  "kernelspec": {
   "display_name": "Python 3",
   "language": "python",
   "name": "python3"
  },
  "language_info": {
   "codemirror_mode": {
    "name": "ipython",
    "version": 3
   },
   "file_extension": ".py",
   "mimetype": "text/x-python",
   "name": "python",
   "nbconvert_exporter": "python",
   "pygments_lexer": "ipython3",
   "version": "3.7.3"
  }
 },
 "nbformat": 4,
 "nbformat_minor": 4
}
